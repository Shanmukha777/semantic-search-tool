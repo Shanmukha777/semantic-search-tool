{
 "cells": [
  {
   "cell_type": "code",
   "execution_count": 2,
   "metadata": {
    "colab": {
     "base_uri": "https://localhost:8080/"
    },
    "id": "q1Enowp7V1UW",
    "outputId": "48ea3947-7e5a-44d2-ff3e-c4322d26f9d4"
   },
   "outputs": [
    {
     "name": "stdout",
     "output_type": "stream",
     "text": [
      "Mounted at /content/drive\n"
     ]
    }
   ],
   "source": [
    "from google.colab import drive\n",
    "drive.mount('/content/drive')"
   ]
  },
  {
   "cell_type": "markdown",
   "metadata": {
    "id": "XfxNHDUm-mP8"
   },
   "source": [
    "---"
   ]
  },
  {
   "cell_type": "code",
   "execution_count": 1,
   "metadata": {
    "id": "2_uimkhP-OG2"
   },
   "outputs": [],
   "source": [
    "import bq_helper\n",
    "from bq_helper import BigQueryHelper\n",
    "import os\n",
    "import pandas as pd\n",
    "import numpy as np\n",
    "import spacy\n",
    "from tqdm import tqdm\n",
    "from bs4 import BeautifulSoup\n",
    "from textblob import TextBlob\n",
    "import re\n",
    "import nltk\n",
    "from nltk.tokenize import RegexpTokenizer\n",
    "import inflect\n",
    "from nltk.corpus import stopwords\n",
    "import heapq"
   ]
  },
  {
   "cell_type": "code",
   "execution_count": 25,
   "metadata": {
    "colab": {
     "base_uri": "https://localhost:8080/"
    },
    "id": "_ThBY6uWVn7I",
    "outputId": "06d60c2d-0a66-41e1-b9c5-ed502a060679"
   },
   "outputs": [
    {
     "name": "stdout",
     "output_type": "stream",
     "text": [
      "[nltk_data] Downloading package stopwords to /root/nltk_data...\n",
      "[nltk_data]   Unzipping corpora/stopwords.zip.\n",
      "[nltk_data] Downloading package punkt to /root/nltk_data...\n",
      "[nltk_data]   Unzipping tokenizers/punkt.zip.\n"
     ]
    },
    {
     "data": {
      "text/plain": [
       "True"
      ]
     },
     "execution_count": 25,
     "metadata": {},
     "output_type": "execute_result"
    }
   ],
   "source": [
    "nltk.download('stopwords')\n",
    "nltk.download('punkt')"
   ]
  },
  {
   "cell_type": "code",
   "execution_count": 3,
   "metadata": {
    "colab": {
     "base_uri": "https://localhost:8080/"
    },
    "id": "Jcd3hx0NniDx",
    "outputId": "fea78d98-5f67-4ee6-cc4a-116a4d9d2e4e"
   },
   "outputs": [
    {
     "name": "stdout",
     "output_type": "stream",
     "text": [
      "Obtaining bq_helper from git+https://github.com/SohierDane/BigQuery_Helper#egg=bq_helper\n",
      "  Cloning https://github.com/SohierDane/BigQuery_Helper to ./src/bq-helper\n",
      "  Running command git clone -q https://github.com/SohierDane/BigQuery_Helper /content/src/bq-helper\n",
      "Requirement already satisfied: pandas in /usr/local/lib/python3.7/dist-packages (from bq_helper) (1.3.5)\n",
      "Requirement already satisfied: google-cloud-bigquery in /usr/local/lib/python3.7/dist-packages (from bq_helper) (1.21.0)\n",
      "Requirement already satisfied: google-resumable-media!=0.4.0,<0.5.0dev,>=0.3.1 in /usr/local/lib/python3.7/dist-packages (from google-cloud-bigquery->bq_helper) (0.4.1)\n",
      "Requirement already satisfied: google-cloud-core<2.0dev,>=1.0.3 in /usr/local/lib/python3.7/dist-packages (from google-cloud-bigquery->bq_helper) (1.0.3)\n",
      "Requirement already satisfied: protobuf>=3.6.0 in /usr/local/lib/python3.7/dist-packages (from google-cloud-bigquery->bq_helper) (3.17.3)\n",
      "Requirement already satisfied: google-api-core<2.0.0dev,>=1.14.0 in /usr/local/lib/python3.7/dist-packages (from google-cloud-core<2.0dev,>=1.0.3->google-cloud-bigquery->bq_helper) (1.31.5)\n",
      "Requirement already satisfied: requests<3.0.0dev,>=2.18.0 in /usr/local/lib/python3.7/dist-packages (from google-api-core<2.0.0dev,>=1.14.0->google-cloud-core<2.0dev,>=1.0.3->google-cloud-bigquery->bq_helper) (2.23.0)\n",
      "Requirement already satisfied: pytz in /usr/local/lib/python3.7/dist-packages (from google-api-core<2.0.0dev,>=1.14.0->google-cloud-core<2.0dev,>=1.0.3->google-cloud-bigquery->bq_helper) (2022.1)\n",
      "Requirement already satisfied: googleapis-common-protos<2.0dev,>=1.6.0 in /usr/local/lib/python3.7/dist-packages (from google-api-core<2.0.0dev,>=1.14.0->google-cloud-core<2.0dev,>=1.0.3->google-cloud-bigquery->bq_helper) (1.56.0)\n",
      "Requirement already satisfied: setuptools>=40.3.0 in /usr/local/lib/python3.7/dist-packages (from google-api-core<2.0.0dev,>=1.14.0->google-cloud-core<2.0dev,>=1.0.3->google-cloud-bigquery->bq_helper) (57.4.0)\n",
      "Requirement already satisfied: packaging>=14.3 in /usr/local/lib/python3.7/dist-packages (from google-api-core<2.0.0dev,>=1.14.0->google-cloud-core<2.0dev,>=1.0.3->google-cloud-bigquery->bq_helper) (21.3)\n",
      "Requirement already satisfied: google-auth<2.0dev,>=1.25.0 in /usr/local/lib/python3.7/dist-packages (from google-api-core<2.0.0dev,>=1.14.0->google-cloud-core<2.0dev,>=1.0.3->google-cloud-bigquery->bq_helper) (1.35.0)\n",
      "Requirement already satisfied: six>=1.13.0 in /usr/local/lib/python3.7/dist-packages (from google-api-core<2.0.0dev,>=1.14.0->google-cloud-core<2.0dev,>=1.0.3->google-cloud-bigquery->bq_helper) (1.15.0)\n",
      "Requirement already satisfied: rsa<5,>=3.1.4 in /usr/local/lib/python3.7/dist-packages (from google-auth<2.0dev,>=1.25.0->google-api-core<2.0.0dev,>=1.14.0->google-cloud-core<2.0dev,>=1.0.3->google-cloud-bigquery->bq_helper) (4.8)\n",
      "Requirement already satisfied: cachetools<5.0,>=2.0.0 in /usr/local/lib/python3.7/dist-packages (from google-auth<2.0dev,>=1.25.0->google-api-core<2.0.0dev,>=1.14.0->google-cloud-core<2.0dev,>=1.0.3->google-cloud-bigquery->bq_helper) (4.2.4)\n",
      "Requirement already satisfied: pyasn1-modules>=0.2.1 in /usr/local/lib/python3.7/dist-packages (from google-auth<2.0dev,>=1.25.0->google-api-core<2.0.0dev,>=1.14.0->google-cloud-core<2.0dev,>=1.0.3->google-cloud-bigquery->bq_helper) (0.2.8)\n",
      "Requirement already satisfied: pyparsing!=3.0.5,>=2.0.2 in /usr/local/lib/python3.7/dist-packages (from packaging>=14.3->google-api-core<2.0.0dev,>=1.14.0->google-cloud-core<2.0dev,>=1.0.3->google-cloud-bigquery->bq_helper) (3.0.8)\n",
      "Requirement already satisfied: pyasn1<0.5.0,>=0.4.6 in /usr/local/lib/python3.7/dist-packages (from pyasn1-modules>=0.2.1->google-auth<2.0dev,>=1.25.0->google-api-core<2.0.0dev,>=1.14.0->google-cloud-core<2.0dev,>=1.0.3->google-cloud-bigquery->bq_helper) (0.4.8)\n",
      "Requirement already satisfied: idna<3,>=2.5 in /usr/local/lib/python3.7/dist-packages (from requests<3.0.0dev,>=2.18.0->google-api-core<2.0.0dev,>=1.14.0->google-cloud-core<2.0dev,>=1.0.3->google-cloud-bigquery->bq_helper) (2.10)\n",
      "Requirement already satisfied: certifi>=2017.4.17 in /usr/local/lib/python3.7/dist-packages (from requests<3.0.0dev,>=2.18.0->google-api-core<2.0.0dev,>=1.14.0->google-cloud-core<2.0dev,>=1.0.3->google-cloud-bigquery->bq_helper) (2021.10.8)\n",
      "Requirement already satisfied: chardet<4,>=3.0.2 in /usr/local/lib/python3.7/dist-packages (from requests<3.0.0dev,>=2.18.0->google-api-core<2.0.0dev,>=1.14.0->google-cloud-core<2.0dev,>=1.0.3->google-cloud-bigquery->bq_helper) (3.0.4)\n",
      "Requirement already satisfied: urllib3!=1.25.0,!=1.25.1,<1.26,>=1.21.1 in /usr/local/lib/python3.7/dist-packages (from requests<3.0.0dev,>=2.18.0->google-api-core<2.0.0dev,>=1.14.0->google-cloud-core<2.0dev,>=1.0.3->google-cloud-bigquery->bq_helper) (1.24.3)\n",
      "Requirement already satisfied: python-dateutil>=2.7.3 in /usr/local/lib/python3.7/dist-packages (from pandas->bq_helper) (2.8.2)\n",
      "Requirement already satisfied: numpy>=1.17.3 in /usr/local/lib/python3.7/dist-packages (from pandas->bq_helper) (1.21.6)\n",
      "Installing collected packages: bq-helper\n",
      "  Running setup.py develop for bq-helper\n",
      "Successfully installed bq-helper-0.4.1\n"
     ]
    }
   ],
   "source": [
    "!pip install -e git+https://github.com/SohierDane/BigQuery_Helper#egg=bq_helper "
   ]
  },
  {
   "cell_type": "code",
   "execution_count": null,
   "metadata": {
    "id": "U9PehGL_nvHR"
   },
   "outputs": [],
   "source": [
    "## Get data from google bigquery\n",
    "\n",
    "# os.environ[\"GOOGLE_APPLICATION_CREDENTIALS\"]=\"/content/semantic-search-engine-c012790c0504.json\"\n",
    "# bq_assistant = BigQueryHelper(\"bigquery-public-data\", \"stackoverflow\")\n",
    "# query = \"SELECT q.id, q.title, q.body, q.tags, a.body as answers, a.score FROM `bigquery-public-data.stackoverflow.posts_questions` AS q INNER JOIN `bigquery-public-data.stackoverflow.posts_answers` AS a ON q.id = a.parent_id LIMIT 1000000\"\n",
    "# df = bq_assistant.query_to_pandas(query)"
   ]
  },
  {
   "cell_type": "code",
   "execution_count": null,
   "metadata": {
    "id": "Vcly0ugL6D6n"
   },
   "outputs": [],
   "source": [
    "## Save data as csv file\n",
    "\n",
    "# df.to_csv('/content/drive/MyDrive/Data/NLP/Original_data.csv')"
   ]
  },
  {
   "cell_type": "code",
   "execution_count": null,
   "metadata": {
    "id": "e9n0UkHWTaFK"
   },
   "outputs": [],
   "source": [
    "## Check data top\n",
    "\n",
    "# df.head()"
   ]
  },
  {
   "cell_type": "markdown",
   "metadata": {
    "id": "9grFo8eGSoDr"
   },
   "source": [
    "## Load data from drive and perform operations for now"
   ]
  },
  {
   "cell_type": "code",
   "execution_count": 5,
   "metadata": {
    "id": "yyl9J5UmYFKf"
   },
   "outputs": [],
   "source": [
    "original_data = pd.read_csv(r'/content/drive/MyDrive/Data/NLP/Original_data.csv', index_col=0)"
   ]
  },
  {
   "cell_type": "code",
   "execution_count": 6,
   "metadata": {
    "colab": {
     "base_uri": "https://localhost:8080/"
    },
    "id": "fdhmpmpRa34w",
    "outputId": "d36f6b6a-96ef-4f47-b5f2-ef810fa5ea3e"
   },
   "outputs": [
    {
     "data": {
      "text/plain": [
       "id         0\n",
       "title      0\n",
       "body       0\n",
       "tags       2\n",
       "answers    0\n",
       "score      0\n",
       "dtype: int64"
      ]
     },
     "execution_count": 6,
     "metadata": {},
     "output_type": "execute_result"
    }
   ],
   "source": [
    "# Check total null counts columnwise\n",
    "original_data.isna().sum()"
   ]
  },
  {
   "cell_type": "code",
   "execution_count": 7,
   "metadata": {
    "colab": {
     "base_uri": "https://localhost:8080/",
     "height": 190
    },
    "id": "qU3Bfuc7cylH",
    "outputId": "5aaf6756-78b7-4636-fabe-0cf0ddc7f4b9"
   },
   "outputs": [
    {
     "data": {
      "text/html": [
       "\n",
       "  <div id=\"df-4a575ee4-5e8f-407c-a19c-9de5ce88e807\">\n",
       "    <div class=\"colab-df-container\">\n",
       "      <div>\n",
       "<style scoped>\n",
       "    .dataframe tbody tr th:only-of-type {\n",
       "        vertical-align: middle;\n",
       "    }\n",
       "\n",
       "    .dataframe tbody tr th {\n",
       "        vertical-align: top;\n",
       "    }\n",
       "\n",
       "    .dataframe thead th {\n",
       "        text-align: right;\n",
       "    }\n",
       "</style>\n",
       "<table border=\"1\" class=\"dataframe\">\n",
       "  <thead>\n",
       "    <tr style=\"text-align: right;\">\n",
       "      <th></th>\n",
       "      <th>id</th>\n",
       "      <th>title</th>\n",
       "      <th>body</th>\n",
       "      <th>tags</th>\n",
       "      <th>answers</th>\n",
       "      <th>score</th>\n",
       "    </tr>\n",
       "  </thead>\n",
       "  <tbody>\n",
       "    <tr>\n",
       "      <th>159208</th>\n",
       "      <td>62595774</td>\n",
       "      <td>Scraping With CSS Returning NULL in R &amp; Python</td>\n",
       "      <td>&lt;p&gt;Question removed as it is no longer valid.&lt;/p&gt;</td>\n",
       "      <td>NaN</td>\n",
       "      <td>&lt;p&gt;The table's contents are loaded dynamically...</td>\n",
       "      <td>1</td>\n",
       "    </tr>\n",
       "    <tr>\n",
       "      <th>902834</th>\n",
       "      <td>7873714</td>\n",
       "      <td>a bit of difference between null and space</td>\n",
       "      <td>&lt;p&gt;I was just reading this quote&lt;/p&gt;\\n\\n&lt;block...</td>\n",
       "      <td>NaN</td>\n",
       "      <td>&lt;p&gt;null is binary 00000000, space is 00100000....</td>\n",
       "      <td>14</td>\n",
       "    </tr>\n",
       "  </tbody>\n",
       "</table>\n",
       "</div>\n",
       "      <button class=\"colab-df-convert\" onclick=\"convertToInteractive('df-4a575ee4-5e8f-407c-a19c-9de5ce88e807')\"\n",
       "              title=\"Convert this dataframe to an interactive table.\"\n",
       "              style=\"display:none;\">\n",
       "        \n",
       "  <svg xmlns=\"http://www.w3.org/2000/svg\" height=\"24px\"viewBox=\"0 0 24 24\"\n",
       "       width=\"24px\">\n",
       "    <path d=\"M0 0h24v24H0V0z\" fill=\"none\"/>\n",
       "    <path d=\"M18.56 5.44l.94 2.06.94-2.06 2.06-.94-2.06-.94-.94-2.06-.94 2.06-2.06.94zm-11 1L8.5 8.5l.94-2.06 2.06-.94-2.06-.94L8.5 2.5l-.94 2.06-2.06.94zm10 10l.94 2.06.94-2.06 2.06-.94-2.06-.94-.94-2.06-.94 2.06-2.06.94z\"/><path d=\"M17.41 7.96l-1.37-1.37c-.4-.4-.92-.59-1.43-.59-.52 0-1.04.2-1.43.59L10.3 9.45l-7.72 7.72c-.78.78-.78 2.05 0 2.83L4 21.41c.39.39.9.59 1.41.59.51 0 1.02-.2 1.41-.59l7.78-7.78 2.81-2.81c.8-.78.8-2.07 0-2.86zM5.41 20L4 18.59l7.72-7.72 1.47 1.35L5.41 20z\"/>\n",
       "  </svg>\n",
       "      </button>\n",
       "      \n",
       "  <style>\n",
       "    .colab-df-container {\n",
       "      display:flex;\n",
       "      flex-wrap:wrap;\n",
       "      gap: 12px;\n",
       "    }\n",
       "\n",
       "    .colab-df-convert {\n",
       "      background-color: #E8F0FE;\n",
       "      border: none;\n",
       "      border-radius: 50%;\n",
       "      cursor: pointer;\n",
       "      display: none;\n",
       "      fill: #1967D2;\n",
       "      height: 32px;\n",
       "      padding: 0 0 0 0;\n",
       "      width: 32px;\n",
       "    }\n",
       "\n",
       "    .colab-df-convert:hover {\n",
       "      background-color: #E2EBFA;\n",
       "      box-shadow: 0px 1px 2px rgba(60, 64, 67, 0.3), 0px 1px 3px 1px rgba(60, 64, 67, 0.15);\n",
       "      fill: #174EA6;\n",
       "    }\n",
       "\n",
       "    [theme=dark] .colab-df-convert {\n",
       "      background-color: #3B4455;\n",
       "      fill: #D2E3FC;\n",
       "    }\n",
       "\n",
       "    [theme=dark] .colab-df-convert:hover {\n",
       "      background-color: #434B5C;\n",
       "      box-shadow: 0px 1px 3px 1px rgba(0, 0, 0, 0.15);\n",
       "      filter: drop-shadow(0px 1px 2px rgba(0, 0, 0, 0.3));\n",
       "      fill: #FFFFFF;\n",
       "    }\n",
       "  </style>\n",
       "\n",
       "      <script>\n",
       "        const buttonEl =\n",
       "          document.querySelector('#df-4a575ee4-5e8f-407c-a19c-9de5ce88e807 button.colab-df-convert');\n",
       "        buttonEl.style.display =\n",
       "          google.colab.kernel.accessAllowed ? 'block' : 'none';\n",
       "\n",
       "        async function convertToInteractive(key) {\n",
       "          const element = document.querySelector('#df-4a575ee4-5e8f-407c-a19c-9de5ce88e807');\n",
       "          const dataTable =\n",
       "            await google.colab.kernel.invokeFunction('convertToInteractive',\n",
       "                                                     [key], {});\n",
       "          if (!dataTable) return;\n",
       "\n",
       "          const docLinkHtml = 'Like what you see? Visit the ' +\n",
       "            '<a target=\"_blank\" href=https://colab.research.google.com/notebooks/data_table.ipynb>data table notebook</a>'\n",
       "            + ' to learn more about interactive tables.';\n",
       "          element.innerHTML = '';\n",
       "          dataTable['output_type'] = 'display_data';\n",
       "          await google.colab.output.renderOutput(dataTable, element);\n",
       "          const docLink = document.createElement('div');\n",
       "          docLink.innerHTML = docLinkHtml;\n",
       "          element.appendChild(docLink);\n",
       "        }\n",
       "      </script>\n",
       "    </div>\n",
       "  </div>\n",
       "  "
      ],
      "text/plain": [
       "              id                                           title  \\\n",
       "159208  62595774  Scraping With CSS Returning NULL in R & Python   \n",
       "902834   7873714      a bit of difference between null and space   \n",
       "\n",
       "                                                     body tags  \\\n",
       "159208  <p>Question removed as it is no longer valid.</p>  NaN   \n",
       "902834  <p>I was just reading this quote</p>\\n\\n<block...  NaN   \n",
       "\n",
       "                                                  answers  score  \n",
       "159208  <p>The table's contents are loaded dynamically...      1  \n",
       "902834  <p>null is binary 00000000, space is 00100000....     14  "
      ]
     },
     "execution_count": 7,
     "metadata": {},
     "output_type": "execute_result"
    }
   ],
   "source": [
    "# Displaying data  only with tags = NaN\n",
    "bool_series = pd.isnull(original_data['tags'])\n",
    "original_data[bool_series]"
   ]
  },
  {
   "cell_type": "code",
   "execution_count": 8,
   "metadata": {
    "colab": {
     "base_uri": "https://localhost:8080/",
     "height": 112
    },
    "id": "Uu0RxVNRlxwA",
    "outputId": "2efb4201-0fae-45c8-df9c-e238020ea872"
   },
   "outputs": [
    {
     "data": {
      "text/html": [
       "\n",
       "  <div id=\"df-a04051bf-c4a5-4ee7-b3f6-924d3e6d7388\">\n",
       "    <div class=\"colab-df-container\">\n",
       "      <div>\n",
       "<style scoped>\n",
       "    .dataframe tbody tr th:only-of-type {\n",
       "        vertical-align: middle;\n",
       "    }\n",
       "\n",
       "    .dataframe tbody tr th {\n",
       "        vertical-align: top;\n",
       "    }\n",
       "\n",
       "    .dataframe thead th {\n",
       "        text-align: right;\n",
       "    }\n",
       "</style>\n",
       "<table border=\"1\" class=\"dataframe\">\n",
       "  <thead>\n",
       "    <tr style=\"text-align: right;\">\n",
       "      <th></th>\n",
       "      <th>title</th>\n",
       "      <th>body</th>\n",
       "    </tr>\n",
       "  </thead>\n",
       "  <tbody>\n",
       "    <tr>\n",
       "      <th>159208</th>\n",
       "      <td>Scraping With CSS Returning NULL in R &amp; Python</td>\n",
       "      <td>&lt;p&gt;Question removed as it is no longer valid.&lt;/p&gt;</td>\n",
       "    </tr>\n",
       "    <tr>\n",
       "      <th>902834</th>\n",
       "      <td>a bit of difference between null and space</td>\n",
       "      <td>&lt;p&gt;I was just reading this quote&lt;/p&gt;\\n\\n&lt;block...</td>\n",
       "    </tr>\n",
       "  </tbody>\n",
       "</table>\n",
       "</div>\n",
       "      <button class=\"colab-df-convert\" onclick=\"convertToInteractive('df-a04051bf-c4a5-4ee7-b3f6-924d3e6d7388')\"\n",
       "              title=\"Convert this dataframe to an interactive table.\"\n",
       "              style=\"display:none;\">\n",
       "        \n",
       "  <svg xmlns=\"http://www.w3.org/2000/svg\" height=\"24px\"viewBox=\"0 0 24 24\"\n",
       "       width=\"24px\">\n",
       "    <path d=\"M0 0h24v24H0V0z\" fill=\"none\"/>\n",
       "    <path d=\"M18.56 5.44l.94 2.06.94-2.06 2.06-.94-2.06-.94-.94-2.06-.94 2.06-2.06.94zm-11 1L8.5 8.5l.94-2.06 2.06-.94-2.06-.94L8.5 2.5l-.94 2.06-2.06.94zm10 10l.94 2.06.94-2.06 2.06-.94-2.06-.94-.94-2.06-.94 2.06-2.06.94z\"/><path d=\"M17.41 7.96l-1.37-1.37c-.4-.4-.92-.59-1.43-.59-.52 0-1.04.2-1.43.59L10.3 9.45l-7.72 7.72c-.78.78-.78 2.05 0 2.83L4 21.41c.39.39.9.59 1.41.59.51 0 1.02-.2 1.41-.59l7.78-7.78 2.81-2.81c.8-.78.8-2.07 0-2.86zM5.41 20L4 18.59l7.72-7.72 1.47 1.35L5.41 20z\"/>\n",
       "  </svg>\n",
       "      </button>\n",
       "      \n",
       "  <style>\n",
       "    .colab-df-container {\n",
       "      display:flex;\n",
       "      flex-wrap:wrap;\n",
       "      gap: 12px;\n",
       "    }\n",
       "\n",
       "    .colab-df-convert {\n",
       "      background-color: #E8F0FE;\n",
       "      border: none;\n",
       "      border-radius: 50%;\n",
       "      cursor: pointer;\n",
       "      display: none;\n",
       "      fill: #1967D2;\n",
       "      height: 32px;\n",
       "      padding: 0 0 0 0;\n",
       "      width: 32px;\n",
       "    }\n",
       "\n",
       "    .colab-df-convert:hover {\n",
       "      background-color: #E2EBFA;\n",
       "      box-shadow: 0px 1px 2px rgba(60, 64, 67, 0.3), 0px 1px 3px 1px rgba(60, 64, 67, 0.15);\n",
       "      fill: #174EA6;\n",
       "    }\n",
       "\n",
       "    [theme=dark] .colab-df-convert {\n",
       "      background-color: #3B4455;\n",
       "      fill: #D2E3FC;\n",
       "    }\n",
       "\n",
       "    [theme=dark] .colab-df-convert:hover {\n",
       "      background-color: #434B5C;\n",
       "      box-shadow: 0px 1px 3px 1px rgba(0, 0, 0, 0.15);\n",
       "      filter: drop-shadow(0px 1px 2px rgba(0, 0, 0, 0.3));\n",
       "      fill: #FFFFFF;\n",
       "    }\n",
       "  </style>\n",
       "\n",
       "      <script>\n",
       "        const buttonEl =\n",
       "          document.querySelector('#df-a04051bf-c4a5-4ee7-b3f6-924d3e6d7388 button.colab-df-convert');\n",
       "        buttonEl.style.display =\n",
       "          google.colab.kernel.accessAllowed ? 'block' : 'none';\n",
       "\n",
       "        async function convertToInteractive(key) {\n",
       "          const element = document.querySelector('#df-a04051bf-c4a5-4ee7-b3f6-924d3e6d7388');\n",
       "          const dataTable =\n",
       "            await google.colab.kernel.invokeFunction('convertToInteractive',\n",
       "                                                     [key], {});\n",
       "          if (!dataTable) return;\n",
       "\n",
       "          const docLinkHtml = 'Like what you see? Visit the ' +\n",
       "            '<a target=\"_blank\" href=https://colab.research.google.com/notebooks/data_table.ipynb>data table notebook</a>'\n",
       "            + ' to learn more about interactive tables.';\n",
       "          element.innerHTML = '';\n",
       "          dataTable['output_type'] = 'display_data';\n",
       "          await google.colab.output.renderOutput(dataTable, element);\n",
       "          const docLink = document.createElement('div');\n",
       "          docLink.innerHTML = docLinkHtml;\n",
       "          element.appendChild(docLink);\n",
       "        }\n",
       "      </script>\n",
       "    </div>\n",
       "  </div>\n",
       "  "
      ],
      "text/plain": [
       "                                                 title  \\\n",
       "159208  Scraping With CSS Returning NULL in R & Python   \n",
       "902834      a bit of difference between null and space   \n",
       "\n",
       "                                                     body  \n",
       "159208  <p>Question removed as it is no longer valid.</p>  \n",
       "902834  <p>I was just reading this quote</p>\\n\\n<block...  "
      ]
     },
     "execution_count": 8,
     "metadata": {},
     "output_type": "execute_result"
    }
   ],
   "source": [
    "original_data[bool_series][['title','body']]"
   ]
  },
  {
   "cell_type": "code",
   "execution_count": 9,
   "metadata": {
    "colab": {
     "base_uri": "https://localhost:8080/",
     "height": 70
    },
    "id": "79vbbJrmf_w-",
    "outputId": "ad6242b0-c928-4a10-b51c-b5a98a78fae9"
   },
   "outputs": [
    {
     "data": {
      "application/vnd.google.colaboratory.intrinsic+json": {
       "type": "string"
      },
      "text/plain": [
       "\"<p>I was just reading this quote</p>\\n\\n<blockquote>\\n  <p>And don't tell me there isn't one bit of difference between null and\\n  space, because that's exactly how much difference there is.  :-)</p>\\n</blockquote>\\n\\n<p>by Larry wall\\nCan anyone tell me what's the <code>bit</code> of difference he meant here between space and <code>null</code>?</p>\""
      ]
     },
     "execution_count": 9,
     "metadata": {},
     "output_type": "execute_result"
    }
   ],
   "source": [
    "original_data.iloc[902834]['body']"
   ]
  },
  {
   "cell_type": "code",
   "execution_count": 10,
   "metadata": {
    "colab": {
     "base_uri": "https://localhost:8080/",
     "height": 35
    },
    "id": "b-l6Hjv92Dnp",
    "outputId": "0b18e503-5936-4e71-ea13-dfc83bdabb14"
   },
   "outputs": [
    {
     "data": {
      "application/vnd.google.colaboratory.intrinsic+json": {
       "type": "string"
      },
      "text/plain": [
       "'<p>Question removed as it is no longer valid.</p>'"
      ]
     },
     "execution_count": 10,
     "metadata": {},
     "output_type": "execute_result"
    }
   ],
   "source": [
    "original_data.iloc[159208]['body']"
   ]
  },
  {
   "cell_type": "code",
   "execution_count": 11,
   "metadata": {
    "id": "TZRINwav2eno"
   },
   "outputs": [],
   "source": [
    "# In above 4 cells we understand that the questions can be dropped as tags are not available and questions are not valid as well.\n",
    "original_data = original_data.dropna()"
   ]
  },
  {
   "cell_type": "code",
   "execution_count": 12,
   "metadata": {
    "colab": {
     "base_uri": "https://localhost:8080/"
    },
    "id": "SozTHaJZ2xlt",
    "outputId": "0a919589-184f-4aaa-931e-220b2b189f4d"
   },
   "outputs": [
    {
     "data": {
      "text/plain": [
       "id         0\n",
       "title      0\n",
       "body       0\n",
       "tags       0\n",
       "answers    0\n",
       "score      0\n",
       "dtype: int64"
      ]
     },
     "execution_count": 12,
     "metadata": {},
     "output_type": "execute_result"
    }
   ],
   "source": [
    "original_data.isna().sum()\n",
    "# now data has no missing values"
   ]
  },
  {
   "cell_type": "code",
   "execution_count": 13,
   "metadata": {
    "colab": {
     "base_uri": "https://localhost:8080/"
    },
    "id": "hqsSJFS2VvuS",
    "outputId": "880c5906-f9b9-4258-892a-9cee53457741"
   },
   "outputs": [
    {
     "data": {
      "text/plain": [
       "(999998, 6)"
      ]
     },
     "execution_count": 13,
     "metadata": {},
     "output_type": "execute_result"
    }
   ],
   "source": [
    "original_data.shape"
   ]
  },
  {
   "cell_type": "code",
   "execution_count": 14,
   "metadata": {
    "colab": {
     "base_uri": "https://localhost:8080/"
    },
    "id": "LzlPA4Nx22Rk",
    "outputId": "ea67198f-5545-496b-919f-01d02b41f9dc"
   },
   "outputs": [
    {
     "data": {
      "text/plain": [
       "4"
      ]
     },
     "execution_count": 14,
     "metadata": {},
     "output_type": "execute_result"
    }
   ],
   "source": [
    "# Check if duplicate rows exists or not\n",
    "original_data.duplicated().sum()"
   ]
  },
  {
   "cell_type": "code",
   "execution_count": 15,
   "metadata": {
    "id": "BxwXpUYsVvuT"
   },
   "outputs": [],
   "source": [
    "# Duplicate rows exist 4 (less in number can be removed)\n",
    "original_data.drop_duplicates(keep = 'first', inplace = True)"
   ]
  },
  {
   "cell_type": "code",
   "execution_count": 16,
   "metadata": {
    "colab": {
     "base_uri": "https://localhost:8080/"
    },
    "id": "RrYhrPb2GrUB",
    "outputId": "d00671f5-a0c9-4286-f4dd-fa87dbf3dd49"
   },
   "outputs": [
    {
     "data": {
      "text/plain": [
       "False"
      ]
     },
     "execution_count": 16,
     "metadata": {},
     "output_type": "execute_result"
    }
   ],
   "source": [
    "# Duplicate rows do not exist\n",
    "original_data.duplicated().any()"
   ]
  },
  {
   "cell_type": "code",
   "execution_count": 17,
   "metadata": {
    "colab": {
     "base_uri": "https://localhost:8080/"
    },
    "id": "QTNs7X8AVvuT",
    "outputId": "d0b61326-f105-4aa5-f08a-360b5f3176db"
   },
   "outputs": [
    {
     "data": {
      "text/plain": [
       "(999994, 6)"
      ]
     },
     "execution_count": 17,
     "metadata": {},
     "output_type": "execute_result"
    }
   ],
   "source": [
    "original_data.shape"
   ]
  },
  {
   "cell_type": "markdown",
   "metadata": {
    "id": "1CTr1etoT4HL"
   },
   "source": [
    "### Preprocessing (As data is prepared)\n",
    "- Tokenization of the text\n",
    "- Converting the tokens to lowercase\n",
    "- Removing the punctuation from the tokens list\n",
    "- Removing the stopwords from the tokens list\n",
    "- Tokenization of the code string"
   ]
  },
  {
   "cell_type": "code",
   "execution_count": 23,
   "metadata": {
    "id": "WS_qWrrAVvuU"
   },
   "outputs": [],
   "source": [
    "# Functions\n",
    "\n",
    "# remove punctuations\n",
    "TAG_RE = re.compile(r'<[^>]+>')\n",
    "\n",
    "def remove_tags(text):\n",
    "    '''Remove all tags'''\n",
    "    return TAG_RE.sub('', text)\n",
    "\n",
    "def clean_text(text):\n",
    "    text = re.sub(\"<p[^>]*>\", \"\", text)\n",
    "    text = re.sub(\"</?p[^>]*>\", \"\", text)\n",
    "    text = re.sub(r'\\[[0-9]*\\]',' ',text)\n",
    "    text = re.sub(r'\\s+',' ',text)\n",
    "    text = re.sub(r'[^\\w\\s]','',text)\n",
    "    text = text.lower()\n",
    "    text = re.sub(r'\\d',' ',text)\n",
    "    text = text.strip()\n",
    "    return text\n",
    "\n",
    "# remove stopwords, contractions and create categories\n",
    "def remove_stopwords(text, stopwords = None):\n",
    "    if not stopwords:\n",
    "        stopwords = nltk.corpus.stopwords.words('english')\n",
    "        \n",
    "    tokens = nltk.word_tokenize(text)\n",
    "    filtered_tokens = [token for token in tokens if token not in stopwords]\n",
    "    \n",
    "    filtered_text = ' '.join(filtered_tokens)\n",
    "    return filtered_text\n",
    "\n",
    "def tokenize_text(text):\n",
    "    return RegexpTokenizer(r'\\w+').tokenize_text(text)\n",
    "\n",
    "def remove_code(text):\n",
    "    '''Remove the code section and tags.'''\n",
    "    soup = BeautifulSoup(text, 'lxml')\n",
    "    if soup.code: soup.code.decompose() # remove code section\n",
    "    return remove_tags(str(soup))\n",
    "\n",
    "def preprocess(text):\n",
    "    return remove_stopwords(clean_text(text))\n",
    "\n",
    "def get_sentiment(text):\n",
    "    return TextBlob(text).sentiment\n",
    "\n",
    "def normalize_col(col):\n",
    "    return (col - col.mean())/(max(col) - min(col))"
   ]
  },
  {
   "cell_type": "code",
   "execution_count": 19,
   "metadata": {
    "id": "KqFMzzDnZv6y"
   },
   "outputs": [],
   "source": [
    "new_cols = ['original_title', \n",
    "            'post_corpus', \n",
    "            'question_content', \n",
    "            'question_url', \n",
    "            'tags', \n",
    "            'answer_content', \n",
    "            'processed_title', \n",
    "            'sentiment_polarity', \n",
    "            'sentiment_subjectivity', \n",
    "            'overall_scores', \n",
    "            'overall_scores_norm']"
   ]
  },
  {
   "cell_type": "markdown",
   "metadata": {
    "id": "d12VgmQAVvuV"
   },
   "source": [
    "### New columns (to be created for better dataset)\n",
    "- drop id\n",
    "- title - original title\n",
    "- title + body + answer - post_corpus\n",
    "- title + question - question content\n",
    "- https://stackoverflow.com/questions/ + id - question url\n",
    "- tags\n",
    "- answer - answer_content\n",
    "- processed_title\n",
    "- sentiment_polarity\n",
    "- sentiment_subjectivity\n",
    "- score - overall_scores\n",
    "- overall_scores_norm"
   ]
  },
  {
   "cell_type": "code",
   "execution_count": 20,
   "metadata": {
    "id": "i_u-kxRyVvuW"
   },
   "outputs": [],
   "source": [
    "content_token_df = pd.DataFrame(columns = new_cols)"
   ]
  },
  {
   "cell_type": "code",
   "execution_count": 21,
   "metadata": {
    "colab": {
     "base_uri": "https://localhost:8080/"
    },
    "id": "BCehBOV5VvuW",
    "outputId": "c0d20933-1748-4afe-a730-99a126b88b8e"
   },
   "outputs": [
    {
     "data": {
      "text/plain": [
       "Index(['id', 'title', 'body', 'tags', 'answers', 'score'], dtype='object')"
      ]
     },
     "execution_count": 21,
     "metadata": {},
     "output_type": "execute_result"
    }
   ],
   "source": [
    "original_data.columns"
   ]
  },
  {
   "cell_type": "code",
   "execution_count": 22,
   "metadata": {
    "colab": {
     "base_uri": "https://localhost:8080/"
    },
    "id": "yx5yVDRhVvuW",
    "outputId": "a77c5be1-a57d-411f-d3da-3cad67ea3107"
   },
   "outputs": [
    {
     "data": {
      "text/plain": [
       "Index(['original_title', 'post_corpus', 'question_content', 'question_url',\n",
       "       'tags', 'answer_content', 'processed_title', 'sentiment_polarity',\n",
       "       'sentiment_subjectivity', 'overall_scores', 'overall_scores_norm'],\n",
       "      dtype='object')"
      ]
     },
     "execution_count": 22,
     "metadata": {},
     "output_type": "execute_result"
    }
   ],
   "source": [
    "content_token_df.columns"
   ]
  },
  {
   "cell_type": "code",
   "execution_count": null,
   "metadata": {
    "id": "FjDu3stCVvuX"
   },
   "outputs": [],
   "source": [
    "# Rough Section\n",
    "\n",
    "# content_token_df['original_title'] = original_data['title']\n",
    "# content_token_df['post_corpus'] = (original_data['title']+\" \"+original_data['body']+\" \"+original_data[\"answers\"]).apply(lambda x: remove_code(x)).apply(lambda x:preprocess(x))\n",
    "# content_token_df['question_content'] = (original_data['title']+\" \"+original_data['body']).apply(lambda x: remove_code(x)).apply(lambda x:preprocess(x))\n",
    "# content_token_df['question_url'] = original_data['id'].apply(lambda x: 'https://stackoverflow.com/questions/'+str(x))\n",
    "# content_token_df['tags'] = original_data['tags']\n",
    "# content_token_df['answer_content'] = original_data['answers'].apply(lambda x: remove_code(x)).apply(lambda x:preprocess(x))\n",
    "# content_token_df['processed_title'] = original_data['title'].apply(lambda x:preprocess(x))\n",
    "# content_token_df['overall_scores'] = original_data['score']\n",
    "# content_token_df['sentiment_polarity'] = content_token_df['answer_content'].apply(lambda x: get_sentiment(x)[0])\n",
    "# content_token_df['sentiment_subjectivity'] = content_token_df['answer_content'].apply(lambda x: get_sentiment(x)[1])\n",
    "# content_token_df['overall_scores_norm'] = normalize_col(content_token_df['overall_scores'])"
   ]
  },
  {
   "cell_type": "code",
   "execution_count": null,
   "metadata": {
    "id": "HaWv5DDYgn6k"
   },
   "outputs": [],
   "source": []
  },
  {
   "cell_type": "code",
   "execution_count": 29,
   "metadata": {
    "id": "H34jfzq-lR7o"
   },
   "outputs": [],
   "source": [
    "original_title = [] \n",
    "post_corpus = [] \n",
    "question_content = [] \n",
    "question_url = [] \n",
    "tags = [] \n",
    "answer_content = [] \n",
    "processed_title = [] \n",
    "sentiment_polarity = [] \n",
    "sentiment_subjectivity = [] \n",
    "overall_scores = [] \n",
    "overall_scores_norm = []"
   ]
  },
  {
   "cell_type": "code",
   "execution_count": null,
   "metadata": {
    "colab": {
     "base_uri": "https://localhost:8080/"
    },
    "id": "HoCf2mgKl1uS",
    "outputId": "8fb8d1d7-519c-4808-b222-897424d001f1"
   },
   "outputs": [
    {
     "name": "stderr",
     "output_type": "stream",
     "text": [
      "959043it [3:16:07, 93.66it/s]"
     ]
    }
   ],
   "source": [
    "for i, row in tqdm(original_data.iterrows()):\n",
    "    original_title.append(row.title) \n",
    "    post_corpus.append(preprocess(remove_code(row.title+\" \"+row.body+\" \"+row.answers))) \n",
    "    question_content.append(preprocess(remove_code(row.title+\" \"+row.body)))\n",
    "    question_url.append('https://stackoverflow.com/questions/'+str(row.id)) \n",
    "    tags.append(row.tags) \n",
    "    answer_content.append(preprocess(remove_code(row.answers))) \n",
    "    processed_title.append(preprocess(row.title)) \n",
    "    sentiment_polarity.append(get_sentiment(preprocess(remove_code(row.answers)))[0]) \n",
    "    sentiment_subjectivity.append(get_sentiment(preprocess(remove_code(row.answers)))[1]) \n",
    "    overall_scores.append(row.score) "
   ]
  },
  {
   "cell_type": "code",
   "execution_count": 31,
   "metadata": {
    "id": "ziEG3NZFdX1J"
   },
   "outputs": [],
   "source": [
    "content_token_df['original_title'] = original_title \n",
    "content_token_df['post_corpus'] = post_corpus\n",
    "content_token_df['question_content'] = question_content\n",
    "content_token_df['question_url'] = question_url\n",
    "content_token_df['tags'] = tags\n",
    "content_token_df['answer_content'] = answer_content\n",
    "content_token_df['processed_title'] = processed_title\n",
    "content_token_df['overall_scores'] = overall_scores\n",
    "content_token_df['sentiment_polarity'] = sentiment_polarity\n",
    "content_token_df['sentiment_subjectivity'] = sentiment_subjectivity"
   ]
  },
  {
   "cell_type": "code",
   "execution_count": 32,
   "metadata": {
    "id": "Rbb0platlSmT"
   },
   "outputs": [],
   "source": [
    "content_token_df['overall_scores_norm'] = normalize_col(content_token_df['overall_scores'])"
   ]
  },
  {
   "cell_type": "code",
   "execution_count": 33,
   "metadata": {
    "colab": {
     "base_uri": "https://localhost:8080/"
    },
    "id": "OrMVzAO9e7-4",
    "outputId": "6100ff35-a2a7-43fb-949a-08ffdc368278"
   },
   "outputs": [
    {
     "data": {
      "text/plain": [
       "(999994, 11)"
      ]
     },
     "execution_count": 33,
     "metadata": {},
     "output_type": "execute_result"
    }
   ],
   "source": [
    "content_token_df.shape"
   ]
  },
  {
   "cell_type": "code",
   "execution_count": 34,
   "metadata": {
    "id": "4T-aS--gflE7"
   },
   "outputs": [],
   "source": [
    "# saved preprocessed data as csv for backup\n",
    "\n",
    "# content_token_df.to_csv(path_or_buf='/content/drive/MyDrive/Data/NLP/preprocessed_data.csv', sep=',', )"
   ]
  },
  {
   "cell_type": "code",
   "execution_count": 3,
   "metadata": {
    "id": "5S2BhjCYhrwM"
   },
   "outputs": [],
   "source": [
    "preprocessed_data = pd.read_csv('/content/drive/MyDrive/Data/NLP/preprocessed_data.csv', index_col=0)"
   ]
  },
  {
   "cell_type": "code",
   "execution_count": 4,
   "metadata": {
    "id": "oqymxW6In_KT"
   },
   "outputs": [],
   "source": [
    "preprocessed_data = preprocessed_data.dropna()"
   ]
  },
  {
   "cell_type": "code",
   "execution_count": 5,
   "metadata": {
    "colab": {
     "base_uri": "https://localhost:8080/"
    },
    "id": "DI4pK3A3qZD7",
    "outputId": "62a302f8-a294-4465-f469-d9d1e022e887"
   },
   "outputs": [
    {
     "data": {
      "text/plain": [
       "original_title            0\n",
       "post_corpus               0\n",
       "question_content          0\n",
       "question_url              0\n",
       "tags                      0\n",
       "answer_content            0\n",
       "processed_title           0\n",
       "sentiment_polarity        0\n",
       "sentiment_subjectivity    0\n",
       "overall_scores            0\n",
       "overall_scores_norm       0\n",
       "dtype: int64"
      ]
     },
     "execution_count": 5,
     "metadata": {},
     "output_type": "execute_result"
    }
   ],
   "source": [
    "preprocessed_data.isna().sum()"
   ]
  },
  {
   "cell_type": "code",
   "execution_count": 7,
   "metadata": {
    "colab": {
     "base_uri": "https://localhost:8080/"
    },
    "id": "qLfP55IoLuCd",
    "outputId": "f2022736-6bb4-430d-9a65-edd5ec492091"
   },
   "outputs": [
    {
     "data": {
      "text/plain": [
       "17"
      ]
     },
     "execution_count": 7,
     "metadata": {},
     "output_type": "execute_result"
    }
   ],
   "source": [
    "preprocessed_data.duplicated().sum()"
   ]
  },
  {
   "cell_type": "code",
   "execution_count": 8,
   "metadata": {
    "id": "r0KmI2HCy98U"
   },
   "outputs": [],
   "source": [
    "preprocessed_data = preprocessed_data.drop_duplicates()"
   ]
  },
  {
   "cell_type": "code",
   "execution_count": 9,
   "metadata": {
    "colab": {
     "base_uri": "https://localhost:8080/"
    },
    "id": "KGj5bMTDzQ36",
    "outputId": "7790a5de-f50d-4d96-d420-7bc103061e99"
   },
   "outputs": [
    {
     "name": "stdout",
     "output_type": "stream",
     "text": [
      "original_title            0\n",
      "post_corpus               0\n",
      "question_content          0\n",
      "question_url              0\n",
      "tags                      0\n",
      "answer_content            0\n",
      "processed_title           0\n",
      "sentiment_polarity        0\n",
      "sentiment_subjectivity    0\n",
      "overall_scores            0\n",
      "overall_scores_norm       0\n",
      "dtype: int64\n",
      "0\n"
     ]
    }
   ],
   "source": [
    "print(preprocessed_data.isna().sum())\n",
    "print(preprocessed_data.duplicated().sum())\n",
    "# Data is preprocessed and has no duplicate and null values"
   ]
  },
  {
   "cell_type": "code",
   "execution_count": 10,
   "metadata": {
    "colab": {
     "base_uri": "https://localhost:8080/"
    },
    "id": "u8yqXiZ3q9EF",
    "outputId": "888ce7a6-81a1-4df5-8908-c2373364b0f2"
   },
   "outputs": [
    {
     "data": {
      "text/plain": [
       "(985352, 11)"
      ]
     },
     "execution_count": 10,
     "metadata": {},
     "output_type": "execute_result"
    }
   ],
   "source": [
    "preprocessed_data.shape"
   ]
  },
  {
   "cell_type": "markdown",
   "metadata": {
    "id": "9GUQU48_2cjF"
   },
   "source": [
    "Each post has a variable number of different tags. In order to narrow down the vast choices for a more accurate model, select 100 most common tags and filter only the data which contains at least one of most_common_tags.\n",
    "\n"
   ]
  },
  {
   "cell_type": "code",
   "execution_count": 11,
   "metadata": {
    "id": "wMw8UDEPOR8Q"
   },
   "outputs": [],
   "source": [
    "preprocessed_data.tags = preprocessed_data.tags.apply(lambda x: x.split('|'))   # Convert raw text data of tags into lists\n",
    "\n",
    "# Make a dictionary to count the frequencies for all tags\n",
    "tag_freq_dict = {}\n",
    "for tags in preprocessed_data.tags:\n",
    "    for tag in tags:\n",
    "        if tag not in tag_freq_dict:\n",
    "            tag_freq_dict[tag] = 0\n",
    "        else:\n",
    "            tag_freq_dict[tag] += 1"
   ]
  },
  {
   "cell_type": "code",
   "execution_count": 12,
   "metadata": {
    "colab": {
     "base_uri": "https://localhost:8080/"
    },
    "id": "zoyp3cAI3l05",
    "outputId": "c16d11e1-d3d3-43d5-eee8-46fe241af718"
   },
   "outputs": [
    {
     "data": {
      "text/plain": [
       "39522"
      ]
     },
     "execution_count": 12,
     "metadata": {},
     "output_type": "execute_result"
    }
   ],
   "source": [
    "len(tag_freq_dict) # total number of unique tags"
   ]
  },
  {
   "cell_type": "code",
   "execution_count": 13,
   "metadata": {
    "id": "UxZrHZIZ3lkU"
   },
   "outputs": [],
   "source": [
    "most_common_tags = heapq.nlargest(100, tag_freq_dict, key=tag_freq_dict.get)"
   ]
  },
  {
   "cell_type": "code",
   "execution_count": 31,
   "metadata": {
    "id": "xpQdMzIy4JQ4"
   },
   "outputs": [],
   "source": [
    "final_indices = []\n",
    "for i,tags in enumerate(preprocessed_data.tags.values.tolist()):\n",
    "    if len(set(tags).intersection(set(most_common_tags)))>1:   # The minimum length for common tags should be 2 because 'python' is a common tag for all\n",
    "        final_indices.append(i)\n",
    "        \n",
    "final_data = preprocessed_data.iloc[final_indices]"
   ]
  },
  {
   "cell_type": "code",
   "execution_count": 32,
   "metadata": {
    "colab": {
     "base_uri": "https://localhost:8080/"
    },
    "id": "3p0lwb3M4JHM",
    "outputId": "8de59ccf-9c50-4280-bdb5-bbff8ed30ce2"
   },
   "outputs": [
    {
     "data": {
      "text/plain": [
       "(408611, 11)"
      ]
     },
     "execution_count": 32,
     "metadata": {},
     "output_type": "execute_result"
    }
   ],
   "source": [
    "final_data.shape"
   ]
  },
  {
   "cell_type": "code",
   "execution_count": 33,
   "metadata": {
    "colab": {
     "base_uri": "https://localhost:8080/"
    },
    "id": "_yEgzNsJ4JAV",
    "outputId": "d8211616-098e-4a5e-8190-b6f106737652"
   },
   "outputs": [
    {
     "data": {
      "text/plain": [
       "Index(['original_title', 'post_corpus', 'question_content', 'question_url',\n",
       "       'tags', 'answer_content', 'processed_title', 'sentiment_polarity',\n",
       "       'sentiment_subjectivity', 'overall_scores', 'overall_scores_norm'],\n",
       "      dtype='object')"
      ]
     },
     "execution_count": 33,
     "metadata": {},
     "output_type": "execute_result"
    }
   ],
   "source": [
    "final_data.tags = final_data.tags.apply(lambda x: '|'.join(x))"
   ]
  },
  {
   "cell_type": "code",
   "execution_count": 34,
   "metadata": {
    "colab": {
     "base_uri": "https://localhost:8080/",
     "height": 1000
    },
    "id": "Z8-8Sl4b2QDf",
    "outputId": "9ca08de8-9b61-48f6-84e8-933b557b2ae4"
   },
   "outputs": [
    {
     "data": {
      "text/html": [
       "\n",
       "  <div id=\"df-f0e7e74c-3ab4-4954-a62b-3678003a9709\">\n",
       "    <div class=\"colab-df-container\">\n",
       "      <div>\n",
       "<style scoped>\n",
       "    .dataframe tbody tr th:only-of-type {\n",
       "        vertical-align: middle;\n",
       "    }\n",
       "\n",
       "    .dataframe tbody tr th {\n",
       "        vertical-align: top;\n",
       "    }\n",
       "\n",
       "    .dataframe thead th {\n",
       "        text-align: right;\n",
       "    }\n",
       "</style>\n",
       "<table border=\"1\" class=\"dataframe\">\n",
       "  <thead>\n",
       "    <tr style=\"text-align: right;\">\n",
       "      <th></th>\n",
       "      <th>original_title</th>\n",
       "      <th>post_corpus</th>\n",
       "      <th>question_content</th>\n",
       "      <th>question_url</th>\n",
       "      <th>tags</th>\n",
       "      <th>processed_title</th>\n",
       "      <th>sentiment_polarity</th>\n",
       "      <th>sentiment_subjectivity</th>\n",
       "      <th>overall_scores</th>\n",
       "      <th>overall_scores_norm</th>\n",
       "    </tr>\n",
       "  </thead>\n",
       "  <tbody>\n",
       "    <tr>\n",
       "      <th>0</th>\n",
       "      <td>Print to hardcopy using javascript - landscape...</td>\n",
       "      <td>print hardcopy using javascript landscape mode...</td>\n",
       "      <td>print hardcopy using javascript landscape mode...</td>\n",
       "      <td>https://stackoverflow.com/questions/7722453</td>\n",
       "      <td>[javascript, html, css]</td>\n",
       "      <td>print hardcopy using javascript landscape mode</td>\n",
       "      <td>0.258333</td>\n",
       "      <td>0.825000</td>\n",
       "      <td>10</td>\n",
       "      <td>0.000329</td>\n",
       "    </tr>\n",
       "    <tr>\n",
       "      <th>3</th>\n",
       "      <td>Primitive or wrapper for hibernate primary keys</td>\n",
       "      <td>primitive wrapper hibernate primary keys ive l...</td>\n",
       "      <td>primitive wrapper hibernate primary keys ive l...</td>\n",
       "      <td>https://stackoverflow.com/questions/3535791</td>\n",
       "      <td>[java, hibernate, orm]</td>\n",
       "      <td>primitive wrapper hibernate primary keys</td>\n",
       "      <td>0.084722</td>\n",
       "      <td>0.606944</td>\n",
       "      <td>11</td>\n",
       "      <td>0.000371</td>\n",
       "    </tr>\n",
       "    <tr>\n",
       "      <th>4</th>\n",
       "      <td>Primitive or wrapper for hibernate primary keys</td>\n",
       "      <td>primitive wrapper hibernate primary keys ive l...</td>\n",
       "      <td>primitive wrapper hibernate primary keys ive l...</td>\n",
       "      <td>https://stackoverflow.com/questions/3535791</td>\n",
       "      <td>[java, hibernate, orm]</td>\n",
       "      <td>primitive wrapper hibernate primary keys</td>\n",
       "      <td>0.024318</td>\n",
       "      <td>0.428561</td>\n",
       "      <td>35</td>\n",
       "      <td>0.001376</td>\n",
       "    </tr>\n",
       "    <tr>\n",
       "      <th>8</th>\n",
       "      <td>Timeouts with long running ASP.NET MVC Core Co...</td>\n",
       "      <td>timeouts long running aspnet mvc core controll...</td>\n",
       "      <td>timeouts long running aspnet mvc core controll...</td>\n",
       "      <td>https://stackoverflow.com/questions/37474309</td>\n",
       "      <td>[c#, asp.net-core, asp.net-core-mvc, timeout]</td>\n",
       "      <td>timeouts long running aspnet mvc core controll...</td>\n",
       "      <td>0.166667</td>\n",
       "      <td>0.322222</td>\n",
       "      <td>47</td>\n",
       "      <td>0.001878</td>\n",
       "    </tr>\n",
       "    <tr>\n",
       "      <th>11</th>\n",
       "      <td>Grab first word in string after '\\id'</td>\n",
       "      <td>grab first word string id would grab first wor...</td>\n",
       "      <td>grab first word string id would grab first wor...</td>\n",
       "      <td>https://stackoverflow.com/questions/11472442</td>\n",
       "      <td>[python, regex]</td>\n",
       "      <td>grab first word string id</td>\n",
       "      <td>0.000000</td>\n",
       "      <td>0.000000</td>\n",
       "      <td>11</td>\n",
       "      <td>0.000371</td>\n",
       "    </tr>\n",
       "    <tr>\n",
       "      <th>...</th>\n",
       "      <td>...</td>\n",
       "      <td>...</td>\n",
       "      <td>...</td>\n",
       "      <td>...</td>\n",
       "      <td>...</td>\n",
       "      <td>...</td>\n",
       "      <td>...</td>\n",
       "      <td>...</td>\n",
       "      <td>...</td>\n",
       "      <td>...</td>\n",
       "    </tr>\n",
       "    <tr>\n",
       "      <th>999988</th>\n",
       "      <td>How to create a list by conditioning a diction...</td>\n",
       "      <td>create list conditioning dictionary dictionary...</td>\n",
       "      <td>create list conditioning dictionary dictionary...</td>\n",
       "      <td>https://stackoverflow.com/questions/58025078</td>\n",
       "      <td>[python, python-3.x, list, dictionary]</td>\n",
       "      <td>create list conditioning dictionary</td>\n",
       "      <td>0.266667</td>\n",
       "      <td>0.802469</td>\n",
       "      <td>-1</td>\n",
       "      <td>-0.000131</td>\n",
       "    </tr>\n",
       "    <tr>\n",
       "      <th>999989</th>\n",
       "      <td>How to suspend the typescript `unused` error c...</td>\n",
       "      <td>suspend typescript unused error consoles angul...</td>\n",
       "      <td>suspend typescript unused error consoles angul...</td>\n",
       "      <td>https://stackoverflow.com/questions/58128073</td>\n",
       "      <td>[angular, typescript, angular8]</td>\n",
       "      <td>suspend typescript unused error consoles</td>\n",
       "      <td>0.000000</td>\n",
       "      <td>0.000000</td>\n",
       "      <td>-1</td>\n",
       "      <td>-0.000131</td>\n",
       "    </tr>\n",
       "    <tr>\n",
       "      <th>999990</th>\n",
       "      <td>I want to detect the volume of my speakers whi...</td>\n",
       "      <td>want detect volume speakers playing video vari...</td>\n",
       "      <td>want detect volume speakers playing video vari...</td>\n",
       "      <td>https://stackoverflow.com/questions/59588113</td>\n",
       "      <td>[python, python-3.x, audio]</td>\n",
       "      <td>want detect volume speakers playing video vari...</td>\n",
       "      <td>0.395833</td>\n",
       "      <td>0.570833</td>\n",
       "      <td>-1</td>\n",
       "      <td>-0.000131</td>\n",
       "    </tr>\n",
       "    <tr>\n",
       "      <th>999991</th>\n",
       "      <td>How to finding the number of days between two ...</td>\n",
       "      <td>finding number days two days week find number ...</td>\n",
       "      <td>finding number days two days week find number ...</td>\n",
       "      <td>https://stackoverflow.com/questions/47160521</td>\n",
       "      <td>[php, date, dayofweek, date-difference]</td>\n",
       "      <td>finding number days two days week</td>\n",
       "      <td>0.136364</td>\n",
       "      <td>0.454545</td>\n",
       "      <td>-1</td>\n",
       "      <td>-0.000131</td>\n",
       "    </tr>\n",
       "    <tr>\n",
       "      <th>999992</th>\n",
       "      <td>Assigning to an array which is a member of struct</td>\n",
       "      <td>assigning array member struct question may dup...</td>\n",
       "      <td>assigning array member struct question may dup...</td>\n",
       "      <td>https://stackoverflow.com/questions/22215660</td>\n",
       "      <td>[c++, arrays, struct]</td>\n",
       "      <td>assigning array member struct</td>\n",
       "      <td>0.136364</td>\n",
       "      <td>0.454545</td>\n",
       "      <td>-1</td>\n",
       "      <td>-0.000131</td>\n",
       "    </tr>\n",
       "  </tbody>\n",
       "</table>\n",
       "<p>408611 rows × 10 columns</p>\n",
       "</div>\n",
       "      <button class=\"colab-df-convert\" onclick=\"convertToInteractive('df-f0e7e74c-3ab4-4954-a62b-3678003a9709')\"\n",
       "              title=\"Convert this dataframe to an interactive table.\"\n",
       "              style=\"display:none;\">\n",
       "        \n",
       "  <svg xmlns=\"http://www.w3.org/2000/svg\" height=\"24px\"viewBox=\"0 0 24 24\"\n",
       "       width=\"24px\">\n",
       "    <path d=\"M0 0h24v24H0V0z\" fill=\"none\"/>\n",
       "    <path d=\"M18.56 5.44l.94 2.06.94-2.06 2.06-.94-2.06-.94-.94-2.06-.94 2.06-2.06.94zm-11 1L8.5 8.5l.94-2.06 2.06-.94-2.06-.94L8.5 2.5l-.94 2.06-2.06.94zm10 10l.94 2.06.94-2.06 2.06-.94-2.06-.94-.94-2.06-.94 2.06-2.06.94z\"/><path d=\"M17.41 7.96l-1.37-1.37c-.4-.4-.92-.59-1.43-.59-.52 0-1.04.2-1.43.59L10.3 9.45l-7.72 7.72c-.78.78-.78 2.05 0 2.83L4 21.41c.39.39.9.59 1.41.59.51 0 1.02-.2 1.41-.59l7.78-7.78 2.81-2.81c.8-.78.8-2.07 0-2.86zM5.41 20L4 18.59l7.72-7.72 1.47 1.35L5.41 20z\"/>\n",
       "  </svg>\n",
       "      </button>\n",
       "      \n",
       "  <style>\n",
       "    .colab-df-container {\n",
       "      display:flex;\n",
       "      flex-wrap:wrap;\n",
       "      gap: 12px;\n",
       "    }\n",
       "\n",
       "    .colab-df-convert {\n",
       "      background-color: #E8F0FE;\n",
       "      border: none;\n",
       "      border-radius: 50%;\n",
       "      cursor: pointer;\n",
       "      display: none;\n",
       "      fill: #1967D2;\n",
       "      height: 32px;\n",
       "      padding: 0 0 0 0;\n",
       "      width: 32px;\n",
       "    }\n",
       "\n",
       "    .colab-df-convert:hover {\n",
       "      background-color: #E2EBFA;\n",
       "      box-shadow: 0px 1px 2px rgba(60, 64, 67, 0.3), 0px 1px 3px 1px rgba(60, 64, 67, 0.15);\n",
       "      fill: #174EA6;\n",
       "    }\n",
       "\n",
       "    [theme=dark] .colab-df-convert {\n",
       "      background-color: #3B4455;\n",
       "      fill: #D2E3FC;\n",
       "    }\n",
       "\n",
       "    [theme=dark] .colab-df-convert:hover {\n",
       "      background-color: #434B5C;\n",
       "      box-shadow: 0px 1px 3px 1px rgba(0, 0, 0, 0.15);\n",
       "      filter: drop-shadow(0px 1px 2px rgba(0, 0, 0, 0.3));\n",
       "      fill: #FFFFFF;\n",
       "    }\n",
       "  </style>\n",
       "\n",
       "      <script>\n",
       "        const buttonEl =\n",
       "          document.querySelector('#df-f0e7e74c-3ab4-4954-a62b-3678003a9709 button.colab-df-convert');\n",
       "        buttonEl.style.display =\n",
       "          google.colab.kernel.accessAllowed ? 'block' : 'none';\n",
       "\n",
       "        async function convertToInteractive(key) {\n",
       "          const element = document.querySelector('#df-f0e7e74c-3ab4-4954-a62b-3678003a9709');\n",
       "          const dataTable =\n",
       "            await google.colab.kernel.invokeFunction('convertToInteractive',\n",
       "                                                     [key], {});\n",
       "          if (!dataTable) return;\n",
       "\n",
       "          const docLinkHtml = 'Like what you see? Visit the ' +\n",
       "            '<a target=\"_blank\" href=https://colab.research.google.com/notebooks/data_table.ipynb>data table notebook</a>'\n",
       "            + ' to learn more about interactive tables.';\n",
       "          element.innerHTML = '';\n",
       "          dataTable['output_type'] = 'display_data';\n",
       "          await google.colab.output.renderOutput(dataTable, element);\n",
       "          const docLink = document.createElement('div');\n",
       "          docLink.innerHTML = docLinkHtml;\n",
       "          element.appendChild(docLink);\n",
       "        }\n",
       "      </script>\n",
       "    </div>\n",
       "  </div>\n",
       "  "
      ],
      "text/plain": [
       "                                           original_title  \\\n",
       "0       Print to hardcopy using javascript - landscape...   \n",
       "3         Primitive or wrapper for hibernate primary keys   \n",
       "4         Primitive or wrapper for hibernate primary keys   \n",
       "8       Timeouts with long running ASP.NET MVC Core Co...   \n",
       "11                  Grab first word in string after '\\id'   \n",
       "...                                                   ...   \n",
       "999988  How to create a list by conditioning a diction...   \n",
       "999989  How to suspend the typescript `unused` error c...   \n",
       "999990  I want to detect the volume of my speakers whi...   \n",
       "999991  How to finding the number of days between two ...   \n",
       "999992  Assigning to an array which is a member of struct   \n",
       "\n",
       "                                              post_corpus  \\\n",
       "0       print hardcopy using javascript landscape mode...   \n",
       "3       primitive wrapper hibernate primary keys ive l...   \n",
       "4       primitive wrapper hibernate primary keys ive l...   \n",
       "8       timeouts long running aspnet mvc core controll...   \n",
       "11      grab first word string id would grab first wor...   \n",
       "...                                                   ...   \n",
       "999988  create list conditioning dictionary dictionary...   \n",
       "999989  suspend typescript unused error consoles angul...   \n",
       "999990  want detect volume speakers playing video vari...   \n",
       "999991  finding number days two days week find number ...   \n",
       "999992  assigning array member struct question may dup...   \n",
       "\n",
       "                                         question_content  \\\n",
       "0       print hardcopy using javascript landscape mode...   \n",
       "3       primitive wrapper hibernate primary keys ive l...   \n",
       "4       primitive wrapper hibernate primary keys ive l...   \n",
       "8       timeouts long running aspnet mvc core controll...   \n",
       "11      grab first word string id would grab first wor...   \n",
       "...                                                   ...   \n",
       "999988  create list conditioning dictionary dictionary...   \n",
       "999989  suspend typescript unused error consoles angul...   \n",
       "999990  want detect volume speakers playing video vari...   \n",
       "999991  finding number days two days week find number ...   \n",
       "999992  assigning array member struct question may dup...   \n",
       "\n",
       "                                        question_url  \\\n",
       "0        https://stackoverflow.com/questions/7722453   \n",
       "3        https://stackoverflow.com/questions/3535791   \n",
       "4        https://stackoverflow.com/questions/3535791   \n",
       "8       https://stackoverflow.com/questions/37474309   \n",
       "11      https://stackoverflow.com/questions/11472442   \n",
       "...                                              ...   \n",
       "999988  https://stackoverflow.com/questions/58025078   \n",
       "999989  https://stackoverflow.com/questions/58128073   \n",
       "999990  https://stackoverflow.com/questions/59588113   \n",
       "999991  https://stackoverflow.com/questions/47160521   \n",
       "999992  https://stackoverflow.com/questions/22215660   \n",
       "\n",
       "                                                 tags  \\\n",
       "0                             [javascript, html, css]   \n",
       "3                              [java, hibernate, orm]   \n",
       "4                              [java, hibernate, orm]   \n",
       "8       [c#, asp.net-core, asp.net-core-mvc, timeout]   \n",
       "11                                    [python, regex]   \n",
       "...                                               ...   \n",
       "999988         [python, python-3.x, list, dictionary]   \n",
       "999989                [angular, typescript, angular8]   \n",
       "999990                    [python, python-3.x, audio]   \n",
       "999991        [php, date, dayofweek, date-difference]   \n",
       "999992                          [c++, arrays, struct]   \n",
       "\n",
       "                                          processed_title  sentiment_polarity  \\\n",
       "0          print hardcopy using javascript landscape mode            0.258333   \n",
       "3                primitive wrapper hibernate primary keys            0.084722   \n",
       "4                primitive wrapper hibernate primary keys            0.024318   \n",
       "8       timeouts long running aspnet mvc core controll...            0.166667   \n",
       "11                              grab first word string id            0.000000   \n",
       "...                                                   ...                 ...   \n",
       "999988                create list conditioning dictionary            0.266667   \n",
       "999989           suspend typescript unused error consoles            0.000000   \n",
       "999990  want detect volume speakers playing video vari...            0.395833   \n",
       "999991                  finding number days two days week            0.136364   \n",
       "999992                      assigning array member struct            0.136364   \n",
       "\n",
       "        sentiment_subjectivity  overall_scores  overall_scores_norm  \n",
       "0                     0.825000              10             0.000329  \n",
       "3                     0.606944              11             0.000371  \n",
       "4                     0.428561              35             0.001376  \n",
       "8                     0.322222              47             0.001878  \n",
       "11                    0.000000              11             0.000371  \n",
       "...                        ...             ...                  ...  \n",
       "999988                0.802469              -1            -0.000131  \n",
       "999989                0.000000              -1            -0.000131  \n",
       "999990                0.570833              -1            -0.000131  \n",
       "999991                0.454545              -1            -0.000131  \n",
       "999992                0.454545              -1            -0.000131  \n",
       "\n",
       "[408611 rows x 10 columns]"
      ]
     },
     "execution_count": 34,
     "metadata": {},
     "output_type": "execute_result"
    }
   ],
   "source": [
    "final_data.drop(['answer_content'], axis=1)"
   ]
  },
  {
   "cell_type": "code",
   "execution_count": 35,
   "metadata": {
    "colab": {
     "base_uri": "https://localhost:8080/"
    },
    "id": "pCZTyVxB10rL",
    "outputId": "bb084a04-0172-41eb-abbd-386cf34b53c8"
   },
   "outputs": [
    {
     "data": {
      "text/plain": [
       "(985352, 11)"
      ]
     },
     "execution_count": 35,
     "metadata": {},
     "output_type": "execute_result"
    }
   ],
   "source": [
    "preprocessed_data.shape"
   ]
  },
  {
   "cell_type": "code",
   "execution_count": 36,
   "metadata": {
    "colab": {
     "base_uri": "https://localhost:8080/"
    },
    "id": "RHwF0TQD11Nd",
    "outputId": "fe862750-534d-47aa-c24c-0843d41cb8ad"
   },
   "outputs": [
    {
     "data": {
      "text/plain": [
       "(408611, 11)"
      ]
     },
     "execution_count": 36,
     "metadata": {},
     "output_type": "execute_result"
    }
   ],
   "source": [
    "final_data.shape"
   ]
  },
  {
   "cell_type": "code",
   "execution_count": 37,
   "metadata": {
    "id": "8m4VeOfg2Exl"
   },
   "outputs": [],
   "source": [
    "# save the data (Data Preprocessed and Saved)\n",
    "\n",
    "preprocessed_data.to_pickle('/content/drive/MyDrive/Data/NLP/Preprocessed_data.pkl')\n",
    "final_data.to_pickle('/content/drive/MyDrive/Data/NLP/Preprocessed_data_mini.pkl')"
   ]
  },
  {
   "cell_type": "markdown",
   "metadata": {
    "id": "a4XkLz8A2YHE"
   },
   "source": [
    "---"
   ]
  },
  {
   "cell_type": "markdown",
   "metadata": {
    "id": "yJoExwrv2QPr"
   },
   "source": [
    "# Rough"
   ]
  },
  {
   "cell_type": "code",
   "execution_count": null,
   "metadata": {
    "id": "Wcp6z9BcVvuY"
   },
   "outputs": [],
   "source": [
    "tokenize_text('a good man always tries to spread happiness')"
   ]
  },
  {
   "cell_type": "code",
   "execution_count": 30,
   "metadata": {
    "colab": {
     "base_uri": "https://localhost:8080/",
     "height": 112
    },
    "id": "xoXBKS3oQ_MV",
    "outputId": "464494b6-43de-4216-b4a0-9e79445aba1a"
   },
   "outputs": [
    {
     "data": {
      "text/html": [
       "\n",
       "  <div id=\"df-dca9a94e-ab9a-490d-87df-e6ef9a248a1e\">\n",
       "    <div class=\"colab-df-container\">\n",
       "      <div>\n",
       "<style scoped>\n",
       "    .dataframe tbody tr th:only-of-type {\n",
       "        vertical-align: middle;\n",
       "    }\n",
       "\n",
       "    .dataframe tbody tr th {\n",
       "        vertical-align: top;\n",
       "    }\n",
       "\n",
       "    .dataframe thead th {\n",
       "        text-align: right;\n",
       "    }\n",
       "</style>\n",
       "<table border=\"1\" class=\"dataframe\">\n",
       "  <thead>\n",
       "    <tr style=\"text-align: right;\">\n",
       "      <th></th>\n",
       "      <th>a</th>\n",
       "      <th>b</th>\n",
       "      <th>c</th>\n",
       "      <th>d</th>\n",
       "    </tr>\n",
       "  </thead>\n",
       "  <tbody>\n",
       "    <tr>\n",
       "      <th>0</th>\n",
       "      <td>nvdvvbdb ram eats mango</td>\n",
       "      <td>man</td>\n",
       "      <td>0.0</td>\n",
       "      <td>10</td>\n",
       "    </tr>\n",
       "    <tr>\n",
       "      <th>2</th>\n",
       "      <td>angry man</td>\n",
       "      <td>bad</td>\n",
       "      <td>-0.7</td>\n",
       "      <td>14</td>\n",
       "    </tr>\n",
       "  </tbody>\n",
       "</table>\n",
       "</div>\n",
       "      <button class=\"colab-df-convert\" onclick=\"convertToInteractive('df-dca9a94e-ab9a-490d-87df-e6ef9a248a1e')\"\n",
       "              title=\"Convert this dataframe to an interactive table.\"\n",
       "              style=\"display:none;\">\n",
       "        \n",
       "  <svg xmlns=\"http://www.w3.org/2000/svg\" height=\"24px\"viewBox=\"0 0 24 24\"\n",
       "       width=\"24px\">\n",
       "    <path d=\"M0 0h24v24H0V0z\" fill=\"none\"/>\n",
       "    <path d=\"M18.56 5.44l.94 2.06.94-2.06 2.06-.94-2.06-.94-.94-2.06-.94 2.06-2.06.94zm-11 1L8.5 8.5l.94-2.06 2.06-.94-2.06-.94L8.5 2.5l-.94 2.06-2.06.94zm10 10l.94 2.06.94-2.06 2.06-.94-2.06-.94-.94-2.06-.94 2.06-2.06.94z\"/><path d=\"M17.41 7.96l-1.37-1.37c-.4-.4-.92-.59-1.43-.59-.52 0-1.04.2-1.43.59L10.3 9.45l-7.72 7.72c-.78.78-.78 2.05 0 2.83L4 21.41c.39.39.9.59 1.41.59.51 0 1.02-.2 1.41-.59l7.78-7.78 2.81-2.81c.8-.78.8-2.07 0-2.86zM5.41 20L4 18.59l7.72-7.72 1.47 1.35L5.41 20z\"/>\n",
       "  </svg>\n",
       "      </button>\n",
       "      \n",
       "  <style>\n",
       "    .colab-df-container {\n",
       "      display:flex;\n",
       "      flex-wrap:wrap;\n",
       "      gap: 12px;\n",
       "    }\n",
       "\n",
       "    .colab-df-convert {\n",
       "      background-color: #E8F0FE;\n",
       "      border: none;\n",
       "      border-radius: 50%;\n",
       "      cursor: pointer;\n",
       "      display: none;\n",
       "      fill: #1967D2;\n",
       "      height: 32px;\n",
       "      padding: 0 0 0 0;\n",
       "      width: 32px;\n",
       "    }\n",
       "\n",
       "    .colab-df-convert:hover {\n",
       "      background-color: #E2EBFA;\n",
       "      box-shadow: 0px 1px 2px rgba(60, 64, 67, 0.3), 0px 1px 3px 1px rgba(60, 64, 67, 0.15);\n",
       "      fill: #174EA6;\n",
       "    }\n",
       "\n",
       "    [theme=dark] .colab-df-convert {\n",
       "      background-color: #3B4455;\n",
       "      fill: #D2E3FC;\n",
       "    }\n",
       "\n",
       "    [theme=dark] .colab-df-convert:hover {\n",
       "      background-color: #434B5C;\n",
       "      box-shadow: 0px 1px 3px 1px rgba(0, 0, 0, 0.15);\n",
       "      filter: drop-shadow(0px 1px 2px rgba(0, 0, 0, 0.3));\n",
       "      fill: #FFFFFF;\n",
       "    }\n",
       "  </style>\n",
       "\n",
       "      <script>\n",
       "        const buttonEl =\n",
       "          document.querySelector('#df-dca9a94e-ab9a-490d-87df-e6ef9a248a1e button.colab-df-convert');\n",
       "        buttonEl.style.display =\n",
       "          google.colab.kernel.accessAllowed ? 'block' : 'none';\n",
       "\n",
       "        async function convertToInteractive(key) {\n",
       "          const element = document.querySelector('#df-dca9a94e-ab9a-490d-87df-e6ef9a248a1e');\n",
       "          const dataTable =\n",
       "            await google.colab.kernel.invokeFunction('convertToInteractive',\n",
       "                                                     [key], {});\n",
       "          if (!dataTable) return;\n",
       "\n",
       "          const docLinkHtml = 'Like what you see? Visit the ' +\n",
       "            '<a target=\"_blank\" href=https://colab.research.google.com/notebooks/data_table.ipynb>data table notebook</a>'\n",
       "            + ' to learn more about interactive tables.';\n",
       "          element.innerHTML = '';\n",
       "          dataTable['output_type'] = 'display_data';\n",
       "          await google.colab.output.renderOutput(dataTable, element);\n",
       "          const docLink = document.createElement('div');\n",
       "          docLink.innerHTML = docLinkHtml;\n",
       "          element.appendChild(docLink);\n",
       "        }\n",
       "      </script>\n",
       "    </div>\n",
       "  </div>\n",
       "  "
      ],
      "text/plain": [
       "                         a    b    c   d\n",
       "0  nvdvvbdb ram eats mango  man  0.0  10\n",
       "2                angry man  bad -0.7  14"
      ]
     },
     "execution_count": 30,
     "metadata": {},
     "output_type": "execute_result"
    }
   ],
   "source": [
    "# use case demo of clean_text, remove_stopwords and tokenize_text functions\n",
    "def sd(l):\n",
    "    return l*2\n",
    "\n",
    "bb = pd.DataFrame({'a':['<p>nvdvvbdb@ ram eats mango<p>','<p>a the AsdfERTT14/@</p>', 'angry man'], 'b':['man', 'good', 'bad']})\n",
    "bb.a = bb.a.apply(lambda x: clean_text(x))\n",
    "bb.a = bb.a.apply(lambda y: remove_stopwords(y))\n",
    "bb['c'] = bb.b.apply(lambda x: get_sentiment(x)[0])\n",
    "bb['d'] = [5,6,7]\n",
    "bb['d'] = sd(bb['d'])\n",
    "# bb.a = bb.a.apply(lambda z: tokenize_text(z))\n",
    "\n",
    "bb\n",
    "# normalize_col(bb.d)\n",
    "\n",
    "cc = bb.iloc[[0,2]]\n",
    "cc"
   ]
  },
  {
   "cell_type": "code",
   "execution_count": null,
   "metadata": {
    "id": "VcPX4FuJVvuZ"
   },
   "outputs": [],
   "source": [
    "TAG_RE = re.compile(r'<[^>]+>')\n",
    "\n",
    "def remove_tags(text):\n",
    "    return TAG_RE.sub('', text)\n",
    "\n",
    "bb = pd.DataFrame({'a':[\"<pre><p>nvdvvbdb@ </p>xclusive<code>print('h')</code>ram eats mango<pre>\",'<p>a the AsdfERTT14/@</p>'], 'b':['man', 'go']})\n",
    "\n",
    "bb['c'] = (bb['a'] + ' ' + bb['b']).apply(lambda x: remove_code(x)).apply(lambda x:preprocess(x))\n",
    "bb"
   ]
  },
  {
   "cell_type": "code",
   "execution_count": null,
   "metadata": {
    "id": "vEo8EOucVvua"
   },
   "outputs": [],
   "source": [
    "remove_code(\"<pre><p>nvdvvbdb@ </p>xclusive<code>print('h')</code>ram eats mango<pre>\")"
   ]
  },
  {
   "cell_type": "code",
   "execution_count": null,
   "metadata": {
    "id": "QT74mk_RVvua"
   },
   "outputs": [],
   "source": [
    "get_sentiment('good boy')"
   ]
  },
  {
   "cell_type": "code",
   "execution_count": null,
   "metadata": {
    "id": "hj58N5LXVvua"
   },
   "outputs": [],
   "source": [
    "for i, row in tqdm(bb.iterrows()):\n",
    "    print(i, row.b)"
   ]
  },
  {
   "cell_type": "code",
   "execution_count": null,
   "metadata": {
    "id": "0xo8G9-9Vvua"
   },
   "outputs": [],
   "source": []
  },
  {
   "cell_type": "markdown",
   "metadata": {
    "id": "E7Iz5p3PVvub"
   },
   "source": [
    "---"
   ]
  },
  {
   "cell_type": "code",
   "execution_count": null,
   "metadata": {
    "id": "jbXMwToDhBdd"
   },
   "outputs": [],
   "source": [
    "# Cleaning post_corpus in content dataframe\n",
    "\n",
    "content['post_corpus'] = content.post_corpus.apply(lambda x: clean_text(x))\n",
    "content['post_corpus'] = content.post_corpus.apply(lambda x: remove_stopwords(x))\n",
    "content.iloc[:,7:].head()"
   ]
  },
  {
   "cell_type": "markdown",
   "metadata": {
    "id": "fPa99dVjRAFv"
   },
   "source": []
  },
  {
   "cell_type": "markdown",
   "metadata": {
    "id": "9gEuSKtCP7wj"
   },
   "source": [
    "Each post has a variable number of different tags. In order to narrow down the vast choices for a more accurate model, select 100 most common tags. \n",
    "Filter only the data which contains at least one of most_common_tags."
   ]
  },
  {
   "cell_type": "code",
   "execution_count": null,
   "metadata": {
    "collapsed": true,
    "id": "0UyeQcKWUN5K"
   },
   "outputs": [],
   "source": [
    "content_token_df.tags = content_token_df.tags.apply(lambda x: x.split('|'))   # Convert raw text data of tags into lists\n",
    "\n",
    "# Make a dictionary to count the frequencies for all tags\n",
    "tag_freq_dict = {}\n",
    "for tags in content_token_df.tags:\n",
    "    for tag in tags:\n",
    "        if tag not in tag_freq_dict:\n",
    "            tag_freq_dict[tag] = 0\n",
    "        else:\n",
    "            tag_freq_dict[tag] += 1"
   ]
  }
 ],
 "metadata": {
  "colab": {
   "collapsed_sections": [],
   "name": "Semantic_Search_Engine_(Stackoverflow_Data) (2).ipynb",
   "provenance": []
  },
  "kernelspec": {
   "display_name": "Python 3",
   "language": "python",
   "name": "python3"
  },
  "language_info": {
   "codemirror_mode": {
    "name": "ipython",
    "version": 3
   },
   "file_extension": ".py",
   "mimetype": "text/x-python",
   "name": "python",
   "nbconvert_exporter": "python",
   "pygments_lexer": "ipython3",
   "version": "3.8.3"
  }
 },
 "nbformat": 4,
 "nbformat_minor": 1
}
